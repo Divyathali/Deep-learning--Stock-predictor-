{
 "cells": [
  {
   "cell_type": "code",
   "execution_count": 2,
   "metadata": {},
   "outputs": [],
   "source": [
    "import pandas as pd\n",
    "import datetime\n",
    "\n",
    "def get_historical_data(symbol,start_date,end_date):\n",
    "    ''' Date format='yyyy-mm-dd' '''\n",
    "    symbol = symbol.upper()\n",
    "    start = datetime.date(int(start_date[0:4]), int(start_date[5:7]), int(start_date[8:10]))\n",
    "    end = datetime.date(int(end_date[0:4]), int(end_date[5:7]), int(end_date[8:10]))\n",
    "    \n",
    "    col_names = ['Date','Open','High','Low','Close','Volume']\n",
    "    stocks = pd.read_csv('C:/Users/Admin/Desktop/stack market price/Stock-Price-Predictor-master/google.csv', header=0, names=col_names) \n",
    "    \n",
    "    df = pd.DataFrame(stocks)\n",
    "    return df"
   ]
  },
  {
   "cell_type": "code",
   "execution_count": 3,
   "metadata": {},
   "outputs": [],
   "source": [
    "data = get_historical_data('google','2015-10-10','2020-06-10') "
   ]
  },
  {
   "cell_type": "code",
   "execution_count": 8,
   "metadata": {},
   "outputs": [
    {
     "name": "stdout",
     "output_type": "stream",
     "text": [
      "        Date       Open       High        Low      Close  Volume\n",
      "0  24.620001  24.690001  24.240000  24.389999  23.132627   73400\n",
      "1  24.410000  24.570000  24.260000  24.400000  23.142111   83100\n",
      "2  24.469999  24.520000  24.209999  24.350000  23.094683  126000\n",
      "3  24.180000  24.270000  23.670000  23.680000  22.459227   87800\n",
      "4  23.830000  24.080000  23.700001  23.879999  22.648911   42400\n",
      "\n",
      "\n",
      "Open   --- mean : 23.331127851469414   \t Std:  3.340001931050479   \t Max:  29.110001   \t Min:  14.32\n",
      "High   --- mean : 22.77254962192214   \t Std:  3.4156374370925793   \t Max:  28.84   \t Min:  13.54\n",
      "Low    --- mean : 23.042065113582222   \t Std:  3.3871797024475243   \t Max:  28.93   \t Min:  13.8\n",
      "Close  --- mean : 22.29007621048449   \t Std:  3.1556477372890503   \t Max:  28.035288   \t Min:  13.732220000000002\n",
      "Volume --- mean : 112801.42970611596   \t Std:  82559.09582208323   \t Max:  846900   \t Min:  11700\n"
     ]
    }
   ],
   "source": [
    "import pandas as pd\n",
    "import numpy as np\n",
    "\n",
    "data= pd.read_csv('C:/Users/Admin/Desktop/stack market price/Stock-Price-Predictor-master/google.csv') \n",
    "print(data.head())\n",
    "\n",
    "print(\"\\n\")\n",
    "print(\"Open   --- mean :\", np.mean(data['Open']),  \"  \\t Std: \", np.std(data['Open']),  \"  \\t Max: \", np.max(data['Open']),  \"  \\t Min: \", np.min(data['Open']))\n",
    "print(\"High   --- mean :\", np.mean(data['High']),  \"  \\t Std: \", np.std(data['High']),  \"  \\t Max: \", np.max(data['High']),  \"  \\t Min: \", np.min(data['High']))\n",
    "print(\"Low    --- mean :\", np.mean(data['Low']),   \"  \\t Std: \", np.std(data['Low']),   \"  \\t Max: \", np.max(data['Low']),   \"  \\t Min: \", np.min(data['Low']))\n",
    "print(\"Close  --- mean :\", np.mean(data['Close']), \"  \\t Std: \", np.std(data['Close']), \"  \\t Max: \", np.max(data['Close']), \"  \\t Min: \", np.min(data['Close']))\n",
    "print(\"Volume --- mean :\", np.mean(data['Volume']),\"  \\t Std: \", np.std(data['Volume']),\"  \\t Max: \", np.max(data['Volume']),\"  \\t Min: \", np.min(data['Volume']))\n"
   ]
  },
  {
   "cell_type": "code",
   "execution_count": 11,
   "metadata": {},
   "outputs": [],
   "source": [
    "import pandas as pd\n",
    "\n",
    "# Import sklearn.preprocessing.StandardScaler\n",
    "from sklearn.preprocessing import MinMaxScaler\n",
    "\n",
    "\n",
    "def get_normalised_data(data):\n",
    "    \"\"\"\n",
    "    Normalises the data values using MinMaxScaler from sklearn\n",
    "    :param data: a DataFrame with columns as  ['index','Open','Close','Volume']\n",
    "    :return: a DataFrame with normalised value for all the columns except index\n",
    "    \"\"\"\n",
    "    # Initialize a scaler, then apply it to the features\n",
    "    scaler = MinMaxScaler()\n",
    "    numerical = ['Open', 'Close', 'Volume']\n",
    "    data[numerical] = scaler.fit_transform(data[numerical])\n",
    "\n",
    "    return data\n",
    "\n",
    "\n",
    "def remove_data(data):\n",
    "    \"\"\"\n",
    "    Remove columns from the data\n",
    "    :param data: a record of all the stock prices with columns as  ['Date','Open','High','Low','Close','Volume']\n",
    "    :return: a DataFrame with columns as  ['index','Open','Close','Volume']\n",
    "    \"\"\"\n",
    "    # Define columns of data to keep from historical stock data\n",
    "    item = []\n",
    "    open = []\n",
    "    close = []\n",
    "    volume = []\n",
    "\n",
    "    # Loop through the stock data objects backwards and store factors we want to keep\n",
    "    i_counter = 0\n",
    "    for i in range(len(data) - 1, -1, -1):\n",
    "        item.append(i_counter)\n",
    "        open.append(data['Open'][i])\n",
    "        close.append(data['Close'][i])\n",
    "        volume.append(data['Volume'][i])\n",
    "        i_counter += 1\n",
    "\n",
    "    # Create a data frame for stock data\n",
    "    stocks = pd.DataFrame()\n",
    "\n",
    "    # Add factors to data frame\n",
    "    stocks['Item'] = item\n",
    "    stocks['Open'] = open\n",
    "    stocks['Close'] = pd.to_numeric(close)\n",
    "    stocks['Volume'] = pd.to_numeric(volume)\n",
    "\n",
    "    # return new formatted data\n",
    "    return stocks\n",
    "\n"
   ]
  },
  {
   "cell_type": "code",
   "execution_count": 28,
   "metadata": {},
   "outputs": [],
   "source": [
    "import pandas as pd\n",
    "import datetime\n",
    "import matplotlib.pyplot as plt\n",
    "\n",
    "def get_historical_data(symbol,start_date,end_date):\n",
    "    ''' Date format='yyyy-mm-dd' '''\n",
    "    symbol = symbol.upper()\n",
    "    start = datetime.date(int(start_date[0:4]), int(start_date[5:7]), int(start_date[8:10]))\n",
    "    end = datetime.date(int(end_date[0:4]), int(end_date[5:7]), int(end_date[8:10]))\n",
    "    \n",
    "    col_names = ['Date','Open','High','Low','Close','Volume']\n",
    "    stocks = pd.read_csv('C:/Users/Admin/Desktop/stack market price/Stock-Price-Predictor-master/google.csv', header=0, names=col_names) \n",
    "    \n",
    "    df = pd.DataFrame(stocks)\n",
    "    return df\n",
    "\n"
   ]
  },
  {
   "cell_type": "code",
   "execution_count": null,
   "metadata": {},
   "outputs": [],
   "source": []
  }
 ],
 "metadata": {
  "kernelspec": {
   "display_name": "Python 3",
   "language": "python",
   "name": "python3"
  },
  "language_info": {
   "codemirror_mode": {
    "name": "ipython",
    "version": 3
   },
   "file_extension": ".py",
   "mimetype": "text/x-python",
   "name": "python",
   "nbconvert_exporter": "python",
   "pygments_lexer": "ipython3",
   "version": "3.7.7"
  }
 },
 "nbformat": 4,
 "nbformat_minor": 4
}
